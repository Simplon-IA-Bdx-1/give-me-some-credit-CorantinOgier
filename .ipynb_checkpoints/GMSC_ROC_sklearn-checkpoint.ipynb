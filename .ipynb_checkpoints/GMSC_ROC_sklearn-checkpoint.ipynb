{
 "cells": [
  {
   "cell_type": "markdown",
   "metadata": {},
   "source": [
    "## Submit GMSC Challenge to Kaggle"
   ]
  },
  {
   "cell_type": "markdown",
   "metadata": {},
   "source": [
    "On importe les librairies dont nous avons besoin, on pourra en rajouter plus tard dans cette cellule :"
   ]
  },
  {
   "cell_type": "code",
   "execution_count": 26,
   "metadata": {},
   "outputs": [],
   "source": [
    "import pandas as pd\n",
    "import numpy as np\n",
    "from pprint import pprint\n",
    "import matplotlib.pyplot as plt\n",
    "from sklearn.model_selection import train_test_split\n",
    "from sklearn.ensemble import RandomForestClassifier\n",
    "from xgboost import XGBClassifier\n",
    "from sklearn.metrics import roc_auc_score"
   ]
  },
  {
   "cell_type": "markdown",
   "metadata": {},
   "source": [
    "* On charge notre fichier de train et de test, enregistrés depuis Kaggle  \n",
    "* On apporte des modifications :  \n",
    " * Les NA en 0  \n",
    " * Ajout de nouvelles features  \n",
    " * ..."
   ]
  },
  {
   "cell_type": "code",
   "execution_count": 13,
   "metadata": {},
   "outputs": [],
   "source": [
    "train_full_df = pd.read_csv('./cs-training.csv')\n",
    "test_df = pd.read_csv('./cs-test.csv')\n",
    "dataframes = [train_full_df, test_df]  # On va faire des modifications sur nos deux fichiers en même temps\n",
    "\n",
    "for df in dataframes:\n",
    "    \n",
    "    df.columns.values[0] = \"Id\"  # On renomme la première colonne 'Field1' en 'Id'\n",
    "    df.fillna(0, inplace = True)  # On remplace les NA par des 0\n",
    "    df['NumberOfTimesPond'] = df['NumberOfTime30-59DaysPastDueNotWorse'] \n",
    "    + 2*df['NumberOfTime60-89DaysPastDueNotWorse'] \n",
    "    + 3*df['NumberOfTimes90DaysLate']\n",
    "    df['IncomePerPerson'] = df['MonthlyIncome'] / (df['NumberOfDependents'] + 1)\n",
    "    df['MonthlyDebt'] = (np.where(df['DebtRatio'] >= 5, df['DebtRatio'], df['DebtRatio']*df['MonthlyIncome']))\n",
    "    df['MonthlyBalance'] = df['MonthlyIncome']-df['MonthlyDebt']"
   ]
  },
  {
   "cell_type": "markdown",
   "metadata": {},
   "source": [
    "On utilise scikitlearn, plus rapide que BigML et qui ne nécessite aucun réseau."
   ]
  },
  {
   "cell_type": "code",
   "execution_count": 16,
   "metadata": {},
   "outputs": [],
   "source": [
    "SEED = 42\n",
    "np.random.seed(SEED)\n",
    "VAL_SIZE = 0.2  # Split du trainfull 80-20\n",
    "train_df, val_df = train_test_split(train_full_df, test_size = VAL_SIZE)"
   ]
  },
  {
   "cell_type": "code",
   "execution_count": 18,
   "metadata": {},
   "outputs": [],
   "source": [
    "target_column = \"SeriousDlqin2yrs\"  # Colonne sur laquelle on veut faire nos prédictions\n",
    "y_train = train_df[target_column].values\n",
    "X_train = train_df.drop(columns=target_column).values\n",
    "y_val = val_df[target_column].values\n",
    "X_val = val_df.drop(columns=target_column).values"
   ]
  },
  {
   "cell_type": "code",
   "execution_count": 19,
   "metadata": {},
   "outputs": [],
   "source": [
    "# Model RandomForestClassifier()\n",
    "model = XGBClassifier()"
   ]
  },
  {
   "cell_type": "markdown",
   "metadata": {},
   "source": [
    "Le modèle est vide, il n'a pas encore analysé de donées, on entraîne le modèle:"
   ]
  },
  {
   "cell_type": "code",
   "execution_count": 20,
   "metadata": {},
   "outputs": [
    {
     "data": {
      "text/plain": [
       "XGBClassifier(base_score=0.5, booster='gbtree', colsample_bylevel=1,\n",
       "       colsample_bynode=1, colsample_bytree=1, gamma=0, learning_rate=0.1,\n",
       "       max_delta_step=0, max_depth=3, min_child_weight=1, missing=None,\n",
       "       n_estimators=100, n_jobs=1, nthread=None,\n",
       "       objective='binary:logistic', random_state=0, reg_alpha=0,\n",
       "       reg_lambda=1, scale_pos_weight=1, seed=None, silent=None,\n",
       "       subsample=1, verbosity=1)"
      ]
     },
     "execution_count": 20,
     "metadata": {},
     "output_type": "execute_result"
    }
   ],
   "source": [
    "model.fit(X_train, y_train)"
   ]
  },
  {
   "cell_type": "code",
   "execution_count": 21,
   "metadata": {},
   "outputs": [
    {
     "name": "stdout",
     "output_type": "stream",
     "text": [
      "[0.00856024 0.01186833 0.01097916 0.10574488 0.12298353 0.06157223\n",
      " 0.01089507 0.00934853 0.02458278 0.01499609]\n"
     ]
    }
   ],
   "source": [
    "y_val_proba = model.predict_proba(X_val)[:,1]\n",
    "print(y_val_proba[:10])"
   ]
  },
  {
   "cell_type": "code",
   "execution_count": 22,
   "metadata": {},
   "outputs": [],
   "source": [
    "# Fonction qui nous retourne 1 si p, dans y_val_proba, dépasse le seuil sinon 0\n",
    "\n",
    "def set_prediction(threshold):\n",
    "    return [1 if p > threshold else 0 for p in y_val_proba]\n",
    "\n",
    "# Fonction qui va calculer le nombre d'erreurs et de réussites avec les TP, TN et les FP, FN \n",
    "\n",
    "def count_error(y_val, y_val_pred):\n",
    "    error = []\n",
    "    for r, p in zip(y_val, y_val_pred):\n",
    "        if (p == 1 and p == r): error.append('TP')\n",
    "        if (p == 1 and p != r): error.append('FP')\n",
    "        if (p == 0 and p == r): error.append('TN')\n",
    "        if (p == 0 and p != r): error.append('FN')\n",
    "    TP = error.count('TP')\n",
    "    FP = error.count('FP')\n",
    "    TN = error.count('TN')\n",
    "    FN = error.count('FN')\n",
    "    return TN, FP, FN, TP"
   ]
  },
  {
   "cell_type": "markdown",
   "metadata": {},
   "source": [
    "Matrice de confusion :"
   ]
  },
  {
   "cell_type": "code",
   "execution_count": 28,
   "metadata": {},
   "outputs": [
    {
     "data": {
      "text/html": [
       "<div>\n",
       "<style scoped>\n",
       "    .dataframe tbody tr th:only-of-type {\n",
       "        vertical-align: middle;\n",
       "    }\n",
       "\n",
       "    .dataframe tbody tr th {\n",
       "        vertical-align: top;\n",
       "    }\n",
       "\n",
       "    .dataframe thead th {\n",
       "        text-align: right;\n",
       "    }\n",
       "</style>\n",
       "<table border=\"1\" class=\"dataframe\">\n",
       "  <thead>\n",
       "    <tr style=\"text-align: right;\">\n",
       "      <th></th>\n",
       "      <th>0</th>\n",
       "      <th>1</th>\n",
       "    </tr>\n",
       "  </thead>\n",
       "  <tbody>\n",
       "    <tr>\n",
       "      <td>0</td>\n",
       "      <td>27781</td>\n",
       "      <td>263</td>\n",
       "    </tr>\n",
       "    <tr>\n",
       "      <td>1</td>\n",
       "      <td>1572</td>\n",
       "      <td>384</td>\n",
       "    </tr>\n",
       "  </tbody>\n",
       "</table>\n",
       "</div>"
      ],
      "text/plain": [
       "       0    1\n",
       "0  27781  263\n",
       "1   1572  384"
      ]
     },
     "execution_count": 28,
     "metadata": {},
     "output_type": "execute_result"
    }
   ],
   "source": [
    "# On met un seuil de 0.5\n",
    "\n",
    "threshold = 0.5\n",
    "y_val_pred = set_prediction(threshold)\n",
    "\n",
    "# On compte le nombre d'erreurs et de réussites\n",
    "\n",
    "TN, FP, FN, TP = count_error(y_val, y_val_pred)\n",
    "\n",
    "# On peut ainsi afficher notre matrice de confusion\n",
    "\n",
    "confusion_matrix = [[TN,FP],[FN,TP]]\n",
    "confusion_matrix_df = pd.DataFrame(confusion_matrix)\n",
    "confusion_matrix_df"
   ]
  },
  {
   "cell_type": "markdown",
   "metadata": {},
   "source": [
    "AUC :"
   ]
  },
  {
   "cell_type": "code",
   "execution_count": 43,
   "metadata": {},
   "outputs": [
    {
     "data": {
      "text/plain": [
       "0.8629457791860236"
      ]
     },
     "execution_count": 43,
     "metadata": {},
     "output_type": "execute_result"
    }
   ],
   "source": [
    "# On peut obtenir notre AUC\n",
    "\n",
    "roc_auc_score(y_val, y_val_proba)"
   ]
  },
  {
   "cell_type": "markdown",
   "metadata": {},
   "source": [
    "ROC Curve :"
   ]
  },
  {
   "cell_type": "code",
   "execution_count": 42,
   "metadata": {},
   "outputs": [
    {
     "data": {
      "image/png": "[encoded data removed]",
      "text/plain": [
       "<Figure size 432x288 with 1 Axes>"
      ]
     },
     "metadata": {
      "needs_background": "light"
     },
     "output_type": "display_data"
    }
   ],
   "source": [
    "# Module qui nous permet d'obtenir la courbe ROC\n",
    "\n",
    "from sklearn.metrics import roc_curve\n",
    "FPR, TPR, thresholds = roc_curve(y_val, y_val_proba)\n",
    "\n",
    "# On l'affiche avec plot\n",
    "\n",
    "plt.plot(FPR,TPR,color='red')\n",
    "plt.plot([0, 1], [0, 1], color='purple', linestyle='--')\n",
    "plt.xlabel('False Positive Rate')\n",
    "plt.ylabel('True Positive Rate')\n",
    "plt.title('ROC Curve')\n",
    "plt.xlim([-0.01, 1.0])\n",
    "plt.ylim([0.0, 1.01])\n",
    "plt.show()"
   ]
  },
  {
   "cell_type": "code",
   "execution_count": null,
   "metadata": {},
   "outputs": [],
   "source": []
  }
 ],
 "metadata": {
  "kernelspec": {
   "display_name": "Python 3",
   "language": "python",
   "name": "python3"
  },
  "language_info": {
   "codemirror_mode": {
    "name": "ipython",
    "version": 3
   },
   "file_extension": ".py",
   "mimetype": "text/x-python",
   "name": "python",
   "nbconvert_exporter": "python",
   "pygments_lexer": "ipython3",
   "version": "3.7.4"
  }
 },
 "nbformat": 4,
 "nbformat_minor": 2
}
