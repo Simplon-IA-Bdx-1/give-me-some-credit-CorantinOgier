{
 "cells": [
  {
   "cell_type": "markdown",
   "metadata": {},
   "source": [
    "# TD 07-11-2019\n",
    "\n",
    "### Exercice individuel: création de prédiction sur un seul input.\n",
    "\n",
    " L’application utilisée par le banquier nous envoie les informations suivantes:\n",
    "\n",
    "```\n",
    "{\n",
    "    \"RevolvingUtilizationOfUnsecuredLines\": 0.01703559,\n",
    "    \"NumberOfDependents\": 1,\n",
    "    \"DebtRatio\": 0,\n",
    "    \"age\": 42,\n",
    "    \"NumberOfOpenCreditLinesAndLoans\": 6,\n",
    "    \"NumberRealEstateLoansOrLines\": 1,\n",
    "    \"NumberOfTime30-59DaysPastDueNotWorse\": 1,\n",
    "    \"NumberOfTime60-89DaysPastDueNotWorse\": 0,\n",
    "    \"NumberOfTimes90DaysLate\": 0\n",
    "}\n",
    "```\n",
    "\n",
    "- Créer un nouveau notebook, dans lequel nous devons calculer une probabilité de défaut de remboursement.\n",
    "- Committer et envoyer le lien."
   ]
  },
  {
   "cell_type": "markdown",
   "metadata": {},
   "source": [
    "### On va procéder de plusieurs manières:\n",
    "\n",
    "\n",
    "### I/ Méthode BigML - Batch Prediction"
   ]
  },
  {
   "cell_type": "markdown",
   "metadata": {},
   "source": [
    "Import des librairies/modules :"
   ]
  },
  {
   "cell_type": "code",
   "execution_count": 10,
   "metadata": {},
   "outputs": [],
   "source": [
    "from bigml.api import BigML\n",
    "import numpy as np\n",
    "from pandas import DataFrame, read_csv"
   ]
  },
  {
   "cell_type": "markdown",
   "metadata": {},
   "source": [
    "On lit notre train et le test sur l'unique client, après l'avoir mis sous csv :"
   ]
  },
  {
   "cell_type": "code",
   "execution_count": 21,
   "metadata": {},
   "outputs": [
    {
     "data": {
      "text/plain": [
       "'Méthode \"à la main\" avec json to csv : http://convertcsv.com/json-to-csv.htm à éviter.'"
      ]
     },
     "execution_count": 21,
     "metadata": {},
     "output_type": "execute_result"
    }
   ],
   "source": [
    "train = read_csv('./GMSC_modif_train.csv')\n",
    "\n",
    "# On importe les informations du client sous csv afin de l'ouvrir et faire une prédiction à l'aide de notre modèle\n",
    "\n",
    "test = read_csv('./td_csv.csv')\n",
    "\n",
    "'''Méthode \"à la main\" avec json to csv : http://convertcsv.com/json-to-csv.htm à éviter.'''"
   ]
  },
  {
   "cell_type": "code",
   "execution_count": 29,
   "metadata": {},
   "outputs": [],
   "source": [
    "api = BigML(project = 'project/5d94a41242129f2e16000244')\n",
    "\n",
    "# Les sources\n",
    "\n",
    "train_source = api.create_source('GMSC_modif_train.csv')\n",
    "test_source = api.create_source('td_csv.csv')"
   ]
  },
  {
   "cell_type": "code",
   "execution_count": 30,
   "metadata": {},
   "outputs": [],
   "source": [
    "# On crée notre dataset train full et test\n",
    "\n",
    "train_dataset = api.create_dataset(train_source)\n",
    "test_dataset = api.create_dataset(test_source)"
   ]
  },
  {
   "cell_type": "code",
   "execution_count": 31,
   "metadata": {},
   "outputs": [],
   "source": [
    "# On split notre trainfull en 80-20\n",
    "\n",
    "split_train = api.create_dataset(\n",
    "    train_dataset, {\"name\": \"TD GMSC | Training\", \"sample_rate\": 0.8, \"seed\": \"my seed\"})"
   ]
  },
  {
   "cell_type": "code",
   "execution_count": 32,
   "metadata": {},
   "outputs": [],
   "source": [
    "# Création d'un modèle Ensemble sur notre split train \n",
    "\n",
    "ensemble = api.create_ensemble(split_train, {\"objective_field\" : \"SeriousDlqin2yrs\"})"
   ]
  },
  {
   "cell_type": "code",
   "execution_count": 34,
   "metadata": {},
   "outputs": [
    {
     "data": {
      "text/plain": [
       "True"
      ]
     },
     "execution_count": 34,
     "metadata": {},
     "output_type": "execute_result"
    }
   ],
   "source": [
    "# Batch prediction sur la partie test\n",
    "\n",
    "batch_prediction = api.create_batch_prediction(ensemble, test_dataset, {\"all_fields\": True, \"probabilities\": True})\n",
    "api.ok(batch_prediction)"
   ]
  },
  {
   "cell_type": "markdown",
   "metadata": {},
   "source": [
    "On peut télécharger notre prédiction pour ensuite la lire et vérifier le résultat obtenu;  \n",
    "Si le client éprouvera des difficultés ou non avec le remboursement du prêt accordé, avec la probabilité de confiance de la prédiction.\n",
    "\n",
    "- La prédiction indique qu'il y aura un possible défaut de paiement de la part du client : 1\n",
    "- La prédiction indique qu'il n'y aura possiblement pas de défaut de paiement de la part du client : 0"
   ]
  },
  {
   "cell_type": "code",
   "execution_count": 35,
   "metadata": {},
   "outputs": [
    {
     "data": {
      "text/plain": [
       "'BatchPrediction/GMSC_td.csv'"
      ]
     },
     "execution_count": 35,
     "metadata": {},
     "output_type": "execute_result"
    }
   ],
   "source": [
    "# Téléchargement du batch prediction\n",
    "\n",
    "api.download_batch_prediction(batch_prediction, filename='BatchPrediction/GMSC_td.csv')"
   ]
  },
  {
   "cell_type": "code",
   "execution_count": 102,
   "metadata": {},
   "outputs": [
    {
     "data": {
      "text/html": [
       "<div>\n",
       "<style scoped>\n",
       "    .dataframe tbody tr th:only-of-type {\n",
       "        vertical-align: middle;\n",
       "    }\n",
       "\n",
       "    .dataframe tbody tr th {\n",
       "        vertical-align: top;\n",
       "    }\n",
       "\n",
       "    .dataframe thead th {\n",
       "        text-align: right;\n",
       "    }\n",
       "</style>\n",
       "<table border=\"1\" class=\"dataframe\">\n",
       "  <thead>\n",
       "    <tr style=\"text-align: right;\">\n",
       "      <th></th>\n",
       "      <th>RevolvingUtilizationOfUnsecuredLines</th>\n",
       "      <th>NumberOfDependents</th>\n",
       "      <th>DebtRatio</th>\n",
       "      <th>age</th>\n",
       "      <th>NumberOfOpenCreditLinesAndLoans</th>\n",
       "      <th>NumberRealEstateLoansOrLines</th>\n",
       "      <th>NumberOfTime30-59DaysPastDueNotWorse</th>\n",
       "      <th>NumberOfTime60-89DaysPastDueNotWorse</th>\n",
       "      <th>NumberOfTimes90DaysLate</th>\n",
       "      <th>SeriousDlqin2yrs</th>\n",
       "      <th>0 probability</th>\n",
       "      <th>1 probability</th>\n",
       "    </tr>\n",
       "  </thead>\n",
       "  <tbody>\n",
       "    <tr>\n",
       "      <td>0</td>\n",
       "      <td>0.017036</td>\n",
       "      <td>1</td>\n",
       "      <td>0</td>\n",
       "      <td>42</td>\n",
       "      <td>6</td>\n",
       "      <td>1</td>\n",
       "      <td>1</td>\n",
       "      <td>0</td>\n",
       "      <td>0</td>\n",
       "      <td>0</td>\n",
       "      <td>0.93371</td>\n",
       "      <td>0.06629</td>\n",
       "    </tr>\n",
       "  </tbody>\n",
       "</table>\n",
       "</div>"
      ],
      "text/plain": [
       "   RevolvingUtilizationOfUnsecuredLines  NumberOfDependents  DebtRatio  age  \\\n",
       "0                              0.017036                   1          0   42   \n",
       "\n",
       "   NumberOfOpenCreditLinesAndLoans  NumberRealEstateLoansOrLines  \\\n",
       "0                                6                             1   \n",
       "\n",
       "   NumberOfTime30-59DaysPastDueNotWorse  NumberOfTime60-89DaysPastDueNotWorse  \\\n",
       "0                                     1                                     0   \n",
       "\n",
       "   NumberOfTimes90DaysLate  SeriousDlqin2yrs  0 probability  1 probability  \n",
       "0                        0                 0        0.93371        0.06629  "
      ]
     },
     "execution_count": 102,
     "metadata": {},
     "output_type": "execute_result"
    }
   ],
   "source": [
    "read_csv('./BatchPrediction/GMSC_td.csv')"
   ]
  },
  {
   "cell_type": "markdown",
   "metadata": {},
   "source": [
    "### II/ Méthode Sklearn - XGBoostClassifier"
   ]
  },
  {
   "cell_type": "code",
   "execution_count": 44,
   "metadata": {},
   "outputs": [],
   "source": [
    "import pandas as pd"
   ]
  },
  {
   "cell_type": "code",
   "execution_count": 65,
   "metadata": {},
   "outputs": [],
   "source": [
    "# Modèle entraîné et stocké dans GMSC_sklearn.ipynb\n",
    "\n",
    "%store -r model_xgbc "
   ]
  },
  {
   "cell_type": "markdown",
   "metadata": {},
   "source": [
    "Les informations données sur le client sont incomplètes par rapport à nos features, on va donc devoir en rajouter :"
   ]
  },
  {
   "cell_type": "code",
   "execution_count": 76,
   "metadata": {},
   "outputs": [
    {
     "data": {
      "text/plain": [
       "{'Id': 0,\n",
       " 'RevolvingUtilizationOfUnsecuredLines': 0.01703559,\n",
       " 'age': 42,\n",
       " 'IsOld': 0,\n",
       " 'NumberTimePond': 0,\n",
       " 'NumberOfTime30-59DaysPastDueNotWorse': 1,\n",
       " 'DebtRatio': 0,\n",
       " 'MonthlyDebt': 0,\n",
       " 'MonthlyIncome': 0,\n",
       " 'NumberOfOpenCreditLinesAndLoans': 6,\n",
       " 'MonthlyPerPerson': 0,\n",
       " 'MonthlyBalance': 0,\n",
       " 'NumberOfTimes90DaysLate': 0,\n",
       " 'NumberRealEstateLoansOrLines': 1,\n",
       " 'NumberOfTime60-89DaysPastDueNotWorse': 0,\n",
       " 'NumberOfDependents': 1}"
      ]
     },
     "execution_count": 76,
     "metadata": {},
     "output_type": "execute_result"
    }
   ],
   "source": [
    "new_input = {\n",
    "    \"RevolvingUtilizationOfUnsecuredLines\": 0.01703559,\n",
    "    \"NumberOfDependents\": 1,\n",
    "    \"DebtRatio\": 0,\n",
    "    \"age\": 42,\n",
    "    \"NumberOfOpenCreditLinesAndLoans\": 6,\n",
    "    \"NumberRealEstateLoansOrLines\": 1,\n",
    "    \"NumberOfTime30-59DaysPastDueNotWorse\": 1,\n",
    "    \"NumberOfTime60-89DaysPastDueNotWorse\": 0,\n",
    "    \"NumberOfTimes90DaysLate\": 0\n",
    "}\n",
    "\n",
    "\n",
    "\n",
    "\n",
    "features = [\"Id\", \"RevolvingUtilizationOfUnsecuredLines\", \"age\", \"IsOld\",\n",
    "            \"NumberTimePond\", \"NumberOfTime30-59DaysPastDueNotWorse\", \"DebtRatio\", \"MonthlyDebt\",\n",
    "            \"MonthlyIncome\", \"NumberOfOpenCreditLinesAndLoans\", \"MonthlyPerPerson\", \"MonthlyBalance\",\n",
    "            \"NumberOfTimes90DaysLate\", \"NumberRealEstateLoansOrLines\",\n",
    "            \"NumberOfTime60-89DaysPastDueNotWorse\", \"NumberOfDependents\"\n",
    "           ]\n",
    "\n",
    "for key in features:\n",
    "    if key not in new_input.keys():\n",
    "        new_input[key] = 0\n",
    "\n",
    "new_input_df = pd.DataFrame(new_input, index=[0])\n",
    "new_input_df = new_input_df[[\"Id\", \"RevolvingUtilizationOfUnsecuredLines\", \"age\", \"IsOld\",\n",
    "            \"NumberTimePond\", \"NumberOfTime30-59DaysPastDueNotWorse\", \"DebtRatio\", \"MonthlyDebt\",\n",
    "            \"MonthlyIncome\", \"NumberOfOpenCreditLinesAndLoans\", \"MonthlyPerPerson\", \"MonthlyBalance\",\n",
    "            \"NumberOfTimes90DaysLate\", \"NumberRealEstateLoansOrLines\",\n",
    "            \"NumberOfTime60-89DaysPastDueNotWorse\", \"NumberOfDependents\"]]\n",
    "\n",
    "new_input_dict = new_input_df.to_dict(orient='index')  # On passe en dict pour que notre modèle fonctionne\n",
    "new_input_dict = new_input_dict[0]\n",
    "\n",
    "new_input_dict"
   ]
  },
  {
   "cell_type": "code",
   "execution_count": 77,
   "metadata": {},
   "outputs": [
    {
     "data": {
      "text/plain": [
       "[0, 0.01703559, 42, 0, 0, 1, 0, 0, 0, 6, 0, 0, 0, 1, 0, 1]"
      ]
     },
     "execution_count": 77,
     "metadata": {},
     "output_type": "execute_result"
    }
   ],
   "source": [
    "# Mise en liste pour mieux gérer les données, sans avoir les headers\n",
    "\n",
    "new_input_list = [new_input_dict[key] for key in new_input_dict]\n",
    "\n",
    "new_input_list"
   ]
  },
  {
   "cell_type": "code",
   "execution_count": 78,
   "metadata": {},
   "outputs": [
    {
     "name": "stdout",
     "output_type": "stream",
     "text": [
      "La prédiction sur le client est 0 avec une probabilité de défaut de paiement de 40.63076376914978 %.\n"
     ]
    }
   ],
   "source": [
    "# Prédiction sur le client et la probabilité qu'il présente un défaut de paiement\n",
    "\n",
    "predict = model_xgbc.predict(new_input_list)[0]\n",
    "proba = model_xgbc.predict_proba(new_input_list)[:,1][0]\n",
    "\n",
    "print (f\"La prédiction sur le client est {predict} avec une probabilité de défaut de paiement de {proba*100} %.\")"
   ]
  },
  {
   "cell_type": "code",
   "execution_count": null,
   "metadata": {},
   "outputs": [],
   "source": []
  }
 ],
 "metadata": {
  "kernelspec": {
   "display_name": "Python 3",
   "language": "python",
   "name": "python3"
  },
  "language_info": {
   "codemirror_mode": {
    "name": "ipython",
    "version": 3
   },
   "file_extension": ".py",
   "mimetype": "text/x-python",
   "name": "python",
   "nbconvert_exporter": "python",
   "pygments_lexer": "ipython3",
   "version": "3.7.4"
  }
 },
 "nbformat": 4,
 "nbformat_minor": 2
}
