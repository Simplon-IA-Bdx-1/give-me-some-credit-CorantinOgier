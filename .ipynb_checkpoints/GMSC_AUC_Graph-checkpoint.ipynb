{
 "cells": [
  {
   "cell_type": "markdown",
   "metadata": {},
   "source": [
    "# Learning curves"
   ]
  },
  {
   "cell_type": "markdown",
   "metadata": {},
   "source": [
    "On importe les librairies/modules qui vont nous être nécessaires :"
   ]
  },
  {
   "cell_type": "code",
   "execution_count": 1,
   "metadata": {},
   "outputs": [],
   "source": [
    "from bigml.api import BigML\n",
    "import numpy as np\n",
    "from pandas import DataFrame, read_csv\n",
    "import kaggle\n",
    "import matplotlib.pyplot as plt"
   ]
  },
  {
   "cell_type": "markdown",
   "metadata": {},
   "source": [
    "Connection à BigML :"
   ]
  },
  {
   "cell_type": "code",
   "execution_count": 2,
   "metadata": {},
   "outputs": [],
   "source": [
    "# On se connecte à BigML avec l'id du projet\n",
    "\n",
    "api = BigML(project = 'project/5d94a41242129f2e16000244')"
   ]
  },
  {
   "cell_type": "markdown",
   "metadata": {},
   "source": [
    "Source, dataset, et split :"
   ]
  },
  {
   "cell_type": "code",
   "execution_count": 4,
   "metadata": {},
   "outputs": [
    {
     "data": {
      "text/plain": [
       "True"
      ]
     },
     "execution_count": 4,
     "metadata": {},
     "output_type": "execute_result"
    }
   ],
   "source": [
    "# On importe nos deux fichiers csv train et test, modifiés, dans la source BigML\n",
    "\n",
    "source_train = api.create_source('GMSC_modif_train.csv')\n",
    "source_test = api.create_source('GMSC_modif_test.csv')\n",
    "\n",
    "# On crée notre dataset de train et de test\n",
    "\n",
    "train_dataset = api.create_dataset(source_train)\n",
    "test_dataset = api.create_dataset(source_test)\n",
    "\n",
    "# On split notre dataset train full en 80-20\n",
    "\n",
    "split_train = api.create_dataset(\n",
    "    train_dataset, {\"name\": \"GMSC - split_train\", \"sample_rate\": 0.8, \"seed\": \"my seed\"})\n",
    "api.ok(split_train)\n",
    "\n",
    "dev_set = api.create_dataset(\n",
    "    train_dataset, {\"name\": \"GMSC - dev_set\", \"sample_rate\": 0.8, \"seed\": \"my seed\", \"out_of_bag\": True})\n",
    "api.ok(dev_set)"
   ]
  },
  {
   "cell_type": "markdown",
   "metadata": {},
   "source": [
    "### Création de Learning Curves"
   ]
  },
  {
   "cell_type": "code",
   "execution_count": 7,
   "metadata": {},
   "outputs": [
    {
     "name": "stdout",
     "output_type": "stream",
     "text": [
      "[10, 20, 30, 40, 50, 60, 70, 80, 90, 100]\n",
      "[10, 20, 30, 40, 50, 60, 70, 80, 90, 100]\n",
      "[0.82724, 0.84078, 0.8468, 0.84813, 0.8524, 0.85332, 0.85424, 0.85369, 0.85459, 0.85291]\n",
      "[0.83838, 0.83781, 0.83915, 0.83536, 0.8348, 0.82865, 0.84267, 0.836, 0.83185, 0.82404]\n"
     ]
    }
   ],
   "source": [
    "x_ensemble = []\n",
    "y_ensemble = []\n",
    "x_deepnet = []\n",
    "y_deepnet = []\n",
    "\n",
    "# Boucle de variation 10-100% \n",
    "\n",
    "for i in range(1,11):\n",
    "    \n",
    "# Data set de train par rapport à notre dataset split_train\n",
    "\n",
    "    split_train_2 = api.create_dataset(\n",
    "        split_train, {\"name\": \"Split Train \" + str(i/10), \"sample_rate\": i/10, \"seed\": \"my seed\"})    \n",
    "    api.ok(split_train)  \n",
    "    \n",
    "# On crée un modèle Ensemble à partir du dataset split\n",
    "    \n",
    "    ensemble = api.create_ensemble(\n",
    "        split_train_2, {\"objective_field\" : \"SeriousDlqin2yrs\", \"name\": \"Ensemble \" + str(i/10)})\n",
    "    api.ok(ensemble)\n",
    "    \n",
    "# On évalue le modèle\n",
    "\n",
    "    evaluation = api.create_evaluation(ensemble, dev_set)\n",
    "    api.ok(evaluation)\n",
    "    \n",
    "# On crée le modèle Deepnet à partir du dataset split\n",
    "\n",
    "    deepnet = api.create_deepnet(\n",
    "        split_train_2, {\"objective_field\" : \"SeriousDlqin2yrs\", \"name\": \"Deepnet \" + str(i/10)})\n",
    "    api.ok(deepnet)\n",
    "    \n",
    "# On évalue le nouveau modèle\n",
    "\n",
    "    evaluation_deepnet = api.create_evaluation(deepnet, dev_set)\n",
    "    api.ok(evaluation_deepnet)\n",
    "    \n",
    "# x pourcentage du split sur l'axe des abscisses et y valeur de l'AUC correspondante\n",
    "    \n",
    "    x_ensemble.append(i*10)\n",
    "    y_ensemble.append(evaluation['object']['result']['model']['average_area_under_roc_curve'])\n",
    "    \n",
    "    x_deepnet.append(i*10)\n",
    "    y_deepnet.append(evaluation_deepnet['object']['result']['model']['average_area_under_roc_curve'])\n",
    "    \n",
    "    i += 1\n",
    "\n",
    "print(x_ensemble)\n",
    "print(x_deepnet)\n",
    "print(y_ensemble)\n",
    "print(y_deepnet)"
   ]
  },
  {
   "cell_type": "code",
   "execution_count": 8,
   "metadata": {},
   "outputs": [
    {
     "data": {
      "image/png": "[encoded data removed]",
      "text/plain": [
       "<Figure size 432x288 with 1 Axes>"
      ]
     },
     "metadata": {
      "needs_background": "light"
     },
     "output_type": "display_data"
    }
   ],
   "source": [
    "# Graphique de comparaison entre les modèles Ensemble et Deepnet, avec l'AUC en fonction de la quantité de données\n",
    "\n",
    "fig, ax = plt.subplots()\n",
    "ax.plot(x_ensemble, y_ensemble, label = 'Ensemble Model')\n",
    "ax.plot(x_deepnet, y_deepnet, label = 'Deepnet Model')\n",
    "ax.set(xlabel = '% Amount Of Data', ylabel = 'AUC',  title = 'Learning Curves : AUC / AmountOfData')\n",
    "plt.legend(bbox_to_anchor=(1.2, 1), loc='best', borderaxespad=0.)\n",
    "ax.grid()\n",
    "plt.show()"
   ]
  }
 ],
 "metadata": {
  "kernelspec": {
   "display_name": "Python 3",
   "language": "python",
   "name": "python3"
  },
  "language_info": {
   "codemirror_mode": {
    "name": "ipython",
    "version": 3
   },
   "file_extension": ".py",
   "mimetype": "text/x-python",
   "name": "python",
   "nbconvert_exporter": "python",
   "pygments_lexer": "ipython3",
   "version": "3.7.4"
  }
 },
 "nbformat": 4,
 "nbformat_minor": 2
}
