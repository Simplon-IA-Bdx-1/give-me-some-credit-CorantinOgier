{
 "cells": [
  {
   "cell_type": "markdown",
   "metadata": {},
   "source": [
    "## Exportation des 100 plus grosses erreurs\n",
    "\n",
    "On veut exporter dans un tableau excel, nos 100 plus grosses erreurs afin de pouvoir analyser nos données plus simplement."
   ]
  },
  {
   "cell_type": "code",
   "execution_count": 3,
   "metadata": {},
   "outputs": [],
   "source": [
    "from bigml.api import BigML\n",
    "import numpy as np\n",
    "from pandas import DataFrame, read_csv, Series\n",
    "\n",
    "prediction=read_csv('./BatchPrediction/val_predictions.csv', index_col=0)\n",
    "\n",
    "# On ajoute une colonne \"Type_Error\" à notre tableau\n",
    "\n",
    "prediction.insert(4,\"Type_Error\",\"\")"
   ]
  },
  {
   "cell_type": "markdown",
   "metadata": {},
   "source": [
    "On crée une fonction fctError qui nous permet de compléter la colonne \"Type_Error\"."
   ]
  },
  {
   "cell_type": "code",
   "execution_count": 4,
   "metadata": {},
   "outputs": [],
   "source": [
    "def fctError(row):\n",
    "    \n",
    "    if row['SeriousDlqin2yrs'] == 1 and row['Prediction'] == 0:\n",
    "        row['Type_Error'] = 'FN'\n",
    "    if row['SeriousDlqin2yrs'] == 0 and row['Prediction'] == 1:\n",
    "        row['Type_Error'] = 'FP'\n",
    "    if row['SeriousDlqin2yrs'] == 1 and row['Prediction'] == 1:\n",
    "        row['Type_Error'] = 'TP'\n",
    "    if row['SeriousDlqin2yrs'] == 0 and row['Prediction'] == 0:\n",
    "        row['Type_Error'] = 'TN'\n",
    "    \n",
    "    return row"
   ]
  },
  {
   "cell_type": "code",
   "execution_count": 5,
   "metadata": {},
   "outputs": [],
   "source": [
    "prediction['Type_Error']=prediction[['Type_Error','SeriousDlqin2yrs','Prediction']].apply(fctError, axis=1)"
   ]
  },
  {
   "cell_type": "markdown",
   "metadata": {},
   "source": [
    "On peut dénombrer les FN, FP, TP et TN grâce à la fonction .value_counts() pour obtenir la matrice de confusion."
   ]
  },
  {
   "cell_type": "code",
   "execution_count": 6,
   "metadata": {},
   "outputs": [
    {
     "name": "stdout",
     "output_type": "stream",
     "text": [
      "TN    27748\n",
      "FN     1613\n",
      "TP      387\n",
      "FP      252\n",
      "Name: Type_Error, dtype: int64\n"
     ]
    }
   ],
   "source": [
    "number_error = prediction['Type_Error'].value_counts()\n",
    "print(number_error)"
   ]
  },
  {
   "cell_type": "markdown",
   "metadata": {},
   "source": [
    "On tri selon les colonnes 'Type_Error' et '0 Proba' de manière à avoir les FN en premier et avec une '0 Proba' décroissante, afin de pouvoir sélectionner et enregistrer en csv les 100 plus grosses erreurs."
   ]
  },
  {
   "cell_type": "code",
   "execution_count": 7,
   "metadata": {},
   "outputs": [],
   "source": [
    "sorted_prediction = prediction.sort_values(by = ['Type_Error', '0 Proba'], ascending = [\"FN\", False])"
   ]
  },
  {
   "cell_type": "code",
   "execution_count": 8,
   "metadata": {},
   "outputs": [],
   "source": [
    "sorted_prediction[0:99].to_csv('top100_fn_error.csv')"
   ]
  },
  {
   "cell_type": "markdown",
   "metadata": {},
   "source": [
    "On calcule notre gain total à l'aide de '.at' puisque le type(number_error) est 'pandas.core.series.Series'.   \n",
    "On pondère selon *500, *0, *-2500 et *500 respectivement pour FP, TP, FN, TN, ce qui correspond aux coûts de chaque décision."
   ]
  },
  {
   "cell_type": "code",
   "execution_count": 9,
   "metadata": {},
   "outputs": [
    {
     "name": "stdout",
     "output_type": "stream",
     "text": [
      "9715500\n"
     ]
    }
   ],
   "source": [
    "total_gain = number_error.at['FP']*(-500) + number_error.at['TP']*0 + number_error.at['FN']*(-2500) + number_error.at['TN']*500\n",
    "print(total_gain)"
   ]
  },
  {
   "cell_type": "markdown",
   "metadata": {},
   "source": [
    "## Création d'un seuil variable"
   ]
  },
  {
   "cell_type": "markdown",
   "metadata": {},
   "source": [
    "Nous avons fait cela avec les 100 plus grosses erreurs de FN selon '0 Proba', maintenant nous allons vérifier avec un autre seuil.  \n",
    "Tout d'abord nous allons redéfinir notre fonction pour créer un seuil que l'on va ajuster afin d'obtenir le meilleur gain, en fonction des coûts de chaque True ou False Positive/Negative que l'on nous a imposé."
   ]
  },
  {
   "cell_type": "code",
   "execution_count": 10,
   "metadata": {},
   "outputs": [],
   "source": [
    "def treshold_prediction(treshold):\n",
    "    \n",
    "    positive_pred = prediction['1 Proba'] >= treshold\n",
    "    negative_pred = prediction['1 Proba'] < treshold\n",
    "    \n",
    "    positive_real = prediction['SeriousDlqin2yrs'] == 1\n",
    "    negative_real = prediction['SeriousDlqin2yrs'] == 0\n",
    "    \n",
    "    # len pour avoir le nombre de valeurs où cette expression est vraie\n",
    "    \n",
    "    TP = len(prediction.loc[positive_pred & positive_real]) \n",
    "    FP = len(prediction.loc[positive_pred & negative_real])\n",
    "    TN = len(prediction.loc[negative_pred & negative_real])\n",
    "    FN = len(prediction.loc[negative_pred & positive_real])\n",
    "    \n",
    "    # Coût de chaque prédiction, en $.\n",
    "    \n",
    "    TP_cost = 0 \n",
    "    FP_cost = -500\n",
    "    TN_cost = 500\n",
    "    FN_cost = -2500\n",
    "    \n",
    "    # matrice de coût\n",
    "    \n",
    "    cost = TP * TP_cost + TN * TN_cost + FP * FP_cost + FN * FN_cost\n",
    "    \n",
    "    return cost"
   ]
  },
  {
   "cell_type": "markdown",
   "metadata": {},
   "source": [
    "On affiche notre courbe grâce à matplotlib :"
   ]
  },
  {
   "cell_type": "code",
   "execution_count": 11,
   "metadata": {},
   "outputs": [
    {
     "name": "stdout",
     "output_type": "stream",
     "text": [
      "Le gain maximal est de 10009500 $ et il est obtenu en 0.29\n"
     ]
    },
    {
     "data": {
      "image/png": "[encoded data removed]",
      "text/plain": [
       "<Figure size 432x288 with 1 Axes>"
      ]
     },
     "metadata": {
      "needs_background": "light"
     },
     "output_type": "display_data"
    }
   ],
   "source": [
    "import matplotlib.pyplot as plt\n",
    "\n",
    "# Ligne à mettre lors du 1er matplotlib, en cas d'erreur, pip install matplotlib dans le container handson-ml\n",
    "\n",
    "%matplotlib inline\n",
    "\n",
    "# On utilise un graphique pour visualiser notre gain maximum en fonction du seuil optimal\n",
    "\n",
    "table = [treshold_prediction(i/1000) for i in range(0,1000)]\n",
    "\n",
    "plt.plot(table)\n",
    "\n",
    "# le maximum dans la table\n",
    "\n",
    "max_val = max(table)\n",
    "max_seuil = table.index(max_val)/1000\n",
    "\n",
    "print(f'Le gain maximal est de {max_val} $ et il est obtenu en {max_seuil}')"
   ]
  },
  {
   "cell_type": "markdown",
   "metadata": {},
   "source": [
    "## Recherche de l'AUC"
   ]
  },
  {
   "cell_type": "markdown",
   "metadata": {},
   "source": [
    "On va regarder la probabilité qu'un positif sélectionné au hasard ait une probabilité de 1 \"supérieure à celle d'un négatif au hasard\" afin de mesurer notre AUC."
   ]
  },
  {
   "cell_type": "code",
   "execution_count": 12,
   "metadata": {},
   "outputs": [
    {
     "data": {
      "text/html": [
       "<div>\n",
       "<style scoped>\n",
       "    .dataframe tbody tr th:only-of-type {\n",
       "        vertical-align: middle;\n",
       "    }\n",
       "\n",
       "    .dataframe tbody tr th {\n",
       "        vertical-align: top;\n",
       "    }\n",
       "\n",
       "    .dataframe thead th {\n",
       "        text-align: right;\n",
       "    }\n",
       "</style>\n",
       "<table border=\"1\" class=\"dataframe\">\n",
       "  <thead>\n",
       "    <tr style=\"text-align: right;\">\n",
       "      <th></th>\n",
       "      <th>SeriousDlqin2yrs</th>\n",
       "      <th>Prediction</th>\n",
       "      <th>0 Proba</th>\n",
       "      <th>1 Proba</th>\n",
       "      <th>Type_Error</th>\n",
       "    </tr>\n",
       "    <tr>\n",
       "      <th>field1</th>\n",
       "      <th></th>\n",
       "      <th></th>\n",
       "      <th></th>\n",
       "      <th></th>\n",
       "      <th></th>\n",
       "    </tr>\n",
       "  </thead>\n",
       "  <tbody>\n",
       "    <tr>\n",
       "      <td>99622</td>\n",
       "      <td>1</td>\n",
       "      <td>1</td>\n",
       "      <td>0.28041</td>\n",
       "      <td>0.71959</td>\n",
       "      <td>TP</td>\n",
       "    </tr>\n",
       "    <tr>\n",
       "      <td>86498</td>\n",
       "      <td>1</td>\n",
       "      <td>1</td>\n",
       "      <td>0.29142</td>\n",
       "      <td>0.70858</td>\n",
       "      <td>TP</td>\n",
       "    </tr>\n",
       "    <tr>\n",
       "      <td>97370</td>\n",
       "      <td>1</td>\n",
       "      <td>1</td>\n",
       "      <td>0.29166</td>\n",
       "      <td>0.70834</td>\n",
       "      <td>TP</td>\n",
       "    </tr>\n",
       "    <tr>\n",
       "      <td>105591</td>\n",
       "      <td>1</td>\n",
       "      <td>1</td>\n",
       "      <td>0.29307</td>\n",
       "      <td>0.70693</td>\n",
       "      <td>TP</td>\n",
       "    </tr>\n",
       "    <tr>\n",
       "      <td>146045</td>\n",
       "      <td>0</td>\n",
       "      <td>1</td>\n",
       "      <td>0.29596</td>\n",
       "      <td>0.70404</td>\n",
       "      <td>FP</td>\n",
       "    </tr>\n",
       "    <tr>\n",
       "      <td>...</td>\n",
       "      <td>...</td>\n",
       "      <td>...</td>\n",
       "      <td>...</td>\n",
       "      <td>...</td>\n",
       "      <td>...</td>\n",
       "    </tr>\n",
       "    <tr>\n",
       "      <td>6164</td>\n",
       "      <td>0</td>\n",
       "      <td>0</td>\n",
       "      <td>0.99845</td>\n",
       "      <td>0.00156</td>\n",
       "      <td>TN</td>\n",
       "    </tr>\n",
       "    <tr>\n",
       "      <td>29862</td>\n",
       "      <td>0</td>\n",
       "      <td>0</td>\n",
       "      <td>0.99845</td>\n",
       "      <td>0.00156</td>\n",
       "      <td>TN</td>\n",
       "    </tr>\n",
       "    <tr>\n",
       "      <td>50195</td>\n",
       "      <td>0</td>\n",
       "      <td>0</td>\n",
       "      <td>0.99845</td>\n",
       "      <td>0.00156</td>\n",
       "      <td>TN</td>\n",
       "    </tr>\n",
       "    <tr>\n",
       "      <td>40771</td>\n",
       "      <td>0</td>\n",
       "      <td>0</td>\n",
       "      <td>0.99852</td>\n",
       "      <td>0.00148</td>\n",
       "      <td>TN</td>\n",
       "    </tr>\n",
       "    <tr>\n",
       "      <td>45144</td>\n",
       "      <td>0</td>\n",
       "      <td>0</td>\n",
       "      <td>0.99852</td>\n",
       "      <td>0.00148</td>\n",
       "      <td>TN</td>\n",
       "    </tr>\n",
       "  </tbody>\n",
       "</table>\n",
       "<p>30000 rows × 5 columns</p>\n",
       "</div>"
      ],
      "text/plain": [
       "        SeriousDlqin2yrs  Prediction  0 Proba  1 Proba Type_Error\n",
       "field1                                                           \n",
       "99622                  1           1  0.28041  0.71959         TP\n",
       "86498                  1           1  0.29142  0.70858         TP\n",
       "97370                  1           1  0.29166  0.70834         TP\n",
       "105591                 1           1  0.29307  0.70693         TP\n",
       "146045                 0           1  0.29596  0.70404         FP\n",
       "...                  ...         ...      ...      ...        ...\n",
       "6164                   0           0  0.99845  0.00156         TN\n",
       "29862                  0           0  0.99845  0.00156         TN\n",
       "50195                  0           0  0.99845  0.00156         TN\n",
       "40771                  0           0  0.99852  0.00148         TN\n",
       "45144                  0           0  0.99852  0.00148         TN\n",
       "\n",
       "[30000 rows x 5 columns]"
      ]
     },
     "execution_count": 12,
     "metadata": {},
     "output_type": "execute_result"
    }
   ],
   "source": [
    "prediction"
   ]
  },
  {
   "cell_type": "code",
   "execution_count": 13,
   "metadata": {},
   "outputs": [],
   "source": [
    "def calc_auc():\n",
    "    positive = prediction.loc[prediction['SeriousDlqin2yrs']==1]\n",
    "    negative = prediction.loc[prediction['SeriousDlqin2yrs']==0]\n",
    "    \n",
    "    pc_sup_nc = 0  # Positive Class superior Negative Class\n",
    "    combinaison = 0\n",
    "    \n",
    "    for threshold_p in positive['1 Proba']:\n",
    "        for threshold_n in negative['1 Proba']:\n",
    "            if threshold_p > threshold_n:\n",
    "                pc_sup_nc += 1  # Booléen qui à chaque fois que True sort, rajoute +1\n",
    "            combinaison += 1    \n",
    "            auc = pc_sup_nc / combinaison\n",
    "    \n",
    "    return auc"
   ]
  },
  {
   "cell_type": "code",
   "execution_count": 14,
   "metadata": {},
   "outputs": [
    {
     "name": "stdout",
     "output_type": "stream",
     "text": [
      "On obtient un AUC de : 0.864702375\n"
     ]
    }
   ],
   "source": [
    "print('On obtient un AUC de :', calc_auc())"
   ]
  },
  {
   "cell_type": "code",
   "execution_count": null,
   "metadata": {},
   "outputs": [],
   "source": []
  }
 ],
 "metadata": {
  "kernelspec": {
   "display_name": "Python 3",
   "language": "python",
   "name": "python3"
  },
  "language_info": {
   "codemirror_mode": {
    "name": "ipython",
    "version": 3
   },
   "file_extension": ".py",
   "mimetype": "text/x-python",
   "name": "python",
   "nbconvert_exporter": "python",
   "pygments_lexer": "ipython3",
   "version": "3.7.4"
  }
 },
 "nbformat": 4,
 "nbformat_minor": 2
}
