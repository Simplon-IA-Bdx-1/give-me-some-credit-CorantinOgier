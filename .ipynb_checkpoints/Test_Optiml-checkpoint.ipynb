{
 "cells": [
  {
   "cell_type": "markdown",
   "metadata": {},
   "source": [
    "Dans cette partie, nous voulons procéder à un OptiML "
   ]
  },
  {
   "cell_type": "code",
   "execution_count": 6,
   "metadata": {},
   "outputs": [],
   "source": [
    "from bigml.api import BigML\n",
    "import numpy as np\n",
    "from pandas import DataFrame, read_csv\n",
    "\n",
    "#On met l'ID BigML, la key et l'id du projet\n",
    "\n",
    "api = BigML('CorantinO', '77225993ed8676123a26c4cdaa13cfadadf71237', project='project/5d94a41242129f2e16000244')\n",
    "\n",
    "#On importe nos deux fichiers csv fulltrainmodif et testmodif dans la source BigML\n",
    "\n",
    "source1 = api.create_source('GMSCfulltrainmodif.csv')\n",
    "source2 = api.create_source('GMSCtestmodif.csv')\n",
    "\n",
    "#On créé notre dataset fulltrainmodif et testmodif\n",
    "\n",
    "origin_dataset1 = api.create_dataset(source1)\n",
    "origin_dataset2 = api.create_dataset(source2)\n",
    "\n",
    "#On split notre dataset fulltrainmodif en 80-20\n",
    "\n",
    "fulltrainm_dataset = api.create_dataset(\n",
    "    origin_dataset1, {\"name\": \"GMSCfulltrainm | Training\", \"sample_rate\": 0.8, \"seed\": \"my seed\"})\n",
    "test_dataset = api.create_dataset(\n",
    "    origin_dataset1, {\"name\": \"GMSCfulltrainm | Test\", \"sample_rate\": 0.8, \"seed\": \"my seed\", \"out_of_bag\": True})\n",
    "\n",
    "#et on fait un OptiML\n",
    "optiml = api.create_optiml(origin_dataset1, { \\\n",
    "    \"name\": \"my optiml - GMSC\", \"metric\": \"accuracy\"})\n",
    "api.ok(optiml)"
   ]
  },
  {
   "cell_type": "code",
   "execution_count": null,
   "metadata": {},
   "outputs": [],
   "source": []
  }
 ],
 "metadata": {
  "kernelspec": {
   "display_name": "Python 3",
   "language": "python",
   "name": "python3"
  },
  "language_info": {
   "codemirror_mode": {
    "name": "ipython",
    "version": 3
   },
   "file_extension": ".py",
   "mimetype": "text/x-python",
   "name": "python",
   "nbconvert_exporter": "python",
   "pygments_lexer": "ipython3",
   "version": "3.7.4"
  }
 },
 "nbformat": 4,
 "nbformat_minor": 2
}
