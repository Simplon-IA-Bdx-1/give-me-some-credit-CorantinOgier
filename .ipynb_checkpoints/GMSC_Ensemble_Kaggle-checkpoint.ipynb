{
 "cells": [
  {
   "cell_type": "markdown",
   "metadata": {},
   "source": [
    "# Give Me Some Credit !"
   ]
  },
  {
   "cell_type": "markdown",
   "metadata": {},
   "source": [
    "On importe nos librairies/modules et on read nos fichiers csv de test et de train :"
   ]
  },
  {
   "cell_type": "code",
   "execution_count": 66,
   "metadata": {},
   "outputs": [
    {
     "name": "stdout",
     "output_type": "stream",
     "text": [
      "List of all the column names:\n",
      "\n",
      "Unnamed: 0\n",
      "SeriousDlqin2yrs\n",
      "RevolvingUtilizationOfUnsecuredLines\n",
      "age\n",
      "NumberOfTime30-59DaysPastDueNotWorse\n",
      "DebtRatio\n",
      "MonthlyIncome\n",
      "NumberOfOpenCreditLinesAndLoans\n",
      "NumberOfTimes90DaysLate\n",
      "NumberRealEstateLoansOrLines\n",
      "NumberOfTime60-89DaysPastDueNotWorse\n",
      "NumberOfDependents\n"
     ]
    }
   ],
   "source": [
    "from bigml.api import BigML\n",
    "import numpy as np\n",
    "from pandas import DataFrame, read_csv\n",
    "\n",
    "fulltrain=read_csv('./cs-training.csv')\n",
    "test=read_csv('./cs-test.csv')\n",
    "print(\"List of all the column names:\\n\")\n",
    "\n",
    "for col in fulltrain.columns:\n",
    "    print(col)"
   ]
  },
  {
   "cell_type": "markdown",
   "metadata": {},
   "source": [
    "Nous allons opérer sur le fichier fulltrain et le fichier test en même temps pour apporter des modifications aux deux en même temps :"
   ]
  },
  {
   "cell_type": "code",
   "execution_count": 67,
   "metadata": {},
   "outputs": [],
   "source": [
    "# On renomme la première colonne actuellement sans nom, en 'Id'\n",
    "\n",
    "for df in [fulltrain, test]:\n",
    "    df.columns.values[0]='Id'"
   ]
  },
  {
   "cell_type": "markdown",
   "metadata": {},
   "source": [
    "On crée une nouvelle colonne 'MonthlyDebt', avec la fonction '.insert' on va pouvoir insérer cette nouvelle colonne en 7e position par exemple (0 étant la 1re position) juste après 'DebtRatio' et mettre comme valeurs par défaut '0' sur chaque ligne."
   ]
  },
  {
   "cell_type": "code",
   "execution_count": 68,
   "metadata": {},
   "outputs": [
    {
     "data": {
      "text/html": [
       "<div>\n",
       "<style scoped>\n",
       "    .dataframe tbody tr th:only-of-type {\n",
       "        vertical-align: middle;\n",
       "    }\n",
       "\n",
       "    .dataframe tbody tr th {\n",
       "        vertical-align: top;\n",
       "    }\n",
       "\n",
       "    .dataframe thead th {\n",
       "        text-align: right;\n",
       "    }\n",
       "</style>\n",
       "<table border=\"1\" class=\"dataframe\">\n",
       "  <thead>\n",
       "    <tr style=\"text-align: right;\">\n",
       "      <th></th>\n",
       "      <th>Id</th>\n",
       "      <th>SeriousDlqin2yrs</th>\n",
       "      <th>RevolvingUtilizationOfUnsecuredLines</th>\n",
       "      <th>age</th>\n",
       "      <th>NumberOfTime30-59DaysPastDueNotWorse</th>\n",
       "      <th>DebtRatio</th>\n",
       "      <th>MonthlyDebt</th>\n",
       "      <th>MonthlyIncome</th>\n",
       "      <th>NumberOfOpenCreditLinesAndLoans</th>\n",
       "      <th>NumberOfTimes90DaysLate</th>\n",
       "      <th>NumberRealEstateLoansOrLines</th>\n",
       "      <th>NumberOfTime60-89DaysPastDueNotWorse</th>\n",
       "      <th>NumberOfDependents</th>\n",
       "    </tr>\n",
       "  </thead>\n",
       "  <tbody>\n",
       "    <tr>\n",
       "      <td>0</td>\n",
       "      <td>1</td>\n",
       "      <td>1</td>\n",
       "      <td>0.766127</td>\n",
       "      <td>45</td>\n",
       "      <td>2</td>\n",
       "      <td>0.802982</td>\n",
       "      <td>0</td>\n",
       "      <td>9120.0</td>\n",
       "      <td>13</td>\n",
       "      <td>0</td>\n",
       "      <td>6</td>\n",
       "      <td>0</td>\n",
       "      <td>2.0</td>\n",
       "    </tr>\n",
       "    <tr>\n",
       "      <td>1</td>\n",
       "      <td>2</td>\n",
       "      <td>0</td>\n",
       "      <td>0.957151</td>\n",
       "      <td>40</td>\n",
       "      <td>0</td>\n",
       "      <td>0.121876</td>\n",
       "      <td>0</td>\n",
       "      <td>2600.0</td>\n",
       "      <td>4</td>\n",
       "      <td>0</td>\n",
       "      <td>0</td>\n",
       "      <td>0</td>\n",
       "      <td>1.0</td>\n",
       "    </tr>\n",
       "    <tr>\n",
       "      <td>2</td>\n",
       "      <td>3</td>\n",
       "      <td>0</td>\n",
       "      <td>0.658180</td>\n",
       "      <td>38</td>\n",
       "      <td>1</td>\n",
       "      <td>0.085113</td>\n",
       "      <td>0</td>\n",
       "      <td>3042.0</td>\n",
       "      <td>2</td>\n",
       "      <td>1</td>\n",
       "      <td>0</td>\n",
       "      <td>0</td>\n",
       "      <td>0.0</td>\n",
       "    </tr>\n",
       "    <tr>\n",
       "      <td>3</td>\n",
       "      <td>4</td>\n",
       "      <td>0</td>\n",
       "      <td>0.233810</td>\n",
       "      <td>30</td>\n",
       "      <td>0</td>\n",
       "      <td>0.036050</td>\n",
       "      <td>0</td>\n",
       "      <td>3300.0</td>\n",
       "      <td>5</td>\n",
       "      <td>0</td>\n",
       "      <td>0</td>\n",
       "      <td>0</td>\n",
       "      <td>0.0</td>\n",
       "    </tr>\n",
       "    <tr>\n",
       "      <td>4</td>\n",
       "      <td>5</td>\n",
       "      <td>0</td>\n",
       "      <td>0.907239</td>\n",
       "      <td>49</td>\n",
       "      <td>1</td>\n",
       "      <td>0.024926</td>\n",
       "      <td>0</td>\n",
       "      <td>63588.0</td>\n",
       "      <td>7</td>\n",
       "      <td>0</td>\n",
       "      <td>1</td>\n",
       "      <td>0</td>\n",
       "      <td>0.0</td>\n",
       "    </tr>\n",
       "    <tr>\n",
       "      <td>5</td>\n",
       "      <td>6</td>\n",
       "      <td>0</td>\n",
       "      <td>0.213179</td>\n",
       "      <td>74</td>\n",
       "      <td>0</td>\n",
       "      <td>0.375607</td>\n",
       "      <td>0</td>\n",
       "      <td>3500.0</td>\n",
       "      <td>3</td>\n",
       "      <td>0</td>\n",
       "      <td>1</td>\n",
       "      <td>0</td>\n",
       "      <td>1.0</td>\n",
       "    </tr>\n",
       "    <tr>\n",
       "      <td>6</td>\n",
       "      <td>7</td>\n",
       "      <td>0</td>\n",
       "      <td>0.305682</td>\n",
       "      <td>57</td>\n",
       "      <td>0</td>\n",
       "      <td>5710.000000</td>\n",
       "      <td>0</td>\n",
       "      <td>NaN</td>\n",
       "      <td>8</td>\n",
       "      <td>0</td>\n",
       "      <td>3</td>\n",
       "      <td>0</td>\n",
       "      <td>0.0</td>\n",
       "    </tr>\n",
       "    <tr>\n",
       "      <td>7</td>\n",
       "      <td>8</td>\n",
       "      <td>0</td>\n",
       "      <td>0.754464</td>\n",
       "      <td>39</td>\n",
       "      <td>0</td>\n",
       "      <td>0.209940</td>\n",
       "      <td>0</td>\n",
       "      <td>3500.0</td>\n",
       "      <td>8</td>\n",
       "      <td>0</td>\n",
       "      <td>0</td>\n",
       "      <td>0</td>\n",
       "      <td>0.0</td>\n",
       "    </tr>\n",
       "    <tr>\n",
       "      <td>8</td>\n",
       "      <td>9</td>\n",
       "      <td>0</td>\n",
       "      <td>0.116951</td>\n",
       "      <td>27</td>\n",
       "      <td>0</td>\n",
       "      <td>46.000000</td>\n",
       "      <td>0</td>\n",
       "      <td>NaN</td>\n",
       "      <td>2</td>\n",
       "      <td>0</td>\n",
       "      <td>0</td>\n",
       "      <td>0</td>\n",
       "      <td>NaN</td>\n",
       "    </tr>\n",
       "    <tr>\n",
       "      <td>9</td>\n",
       "      <td>10</td>\n",
       "      <td>0</td>\n",
       "      <td>0.189169</td>\n",
       "      <td>57</td>\n",
       "      <td>0</td>\n",
       "      <td>0.606291</td>\n",
       "      <td>0</td>\n",
       "      <td>23684.0</td>\n",
       "      <td>9</td>\n",
       "      <td>0</td>\n",
       "      <td>4</td>\n",
       "      <td>0</td>\n",
       "      <td>2.0</td>\n",
       "    </tr>\n",
       "    <tr>\n",
       "      <td>10</td>\n",
       "      <td>11</td>\n",
       "      <td>0</td>\n",
       "      <td>0.644226</td>\n",
       "      <td>30</td>\n",
       "      <td>0</td>\n",
       "      <td>0.309476</td>\n",
       "      <td>0</td>\n",
       "      <td>2500.0</td>\n",
       "      <td>5</td>\n",
       "      <td>0</td>\n",
       "      <td>0</td>\n",
       "      <td>0</td>\n",
       "      <td>0.0</td>\n",
       "    </tr>\n",
       "    <tr>\n",
       "      <td>11</td>\n",
       "      <td>12</td>\n",
       "      <td>0</td>\n",
       "      <td>0.018798</td>\n",
       "      <td>51</td>\n",
       "      <td>0</td>\n",
       "      <td>0.531529</td>\n",
       "      <td>0</td>\n",
       "      <td>6501.0</td>\n",
       "      <td>7</td>\n",
       "      <td>0</td>\n",
       "      <td>2</td>\n",
       "      <td>0</td>\n",
       "      <td>2.0</td>\n",
       "    </tr>\n",
       "    <tr>\n",
       "      <td>12</td>\n",
       "      <td>13</td>\n",
       "      <td>0</td>\n",
       "      <td>0.010352</td>\n",
       "      <td>46</td>\n",
       "      <td>0</td>\n",
       "      <td>0.298354</td>\n",
       "      <td>0</td>\n",
       "      <td>12454.0</td>\n",
       "      <td>13</td>\n",
       "      <td>0</td>\n",
       "      <td>2</td>\n",
       "      <td>0</td>\n",
       "      <td>2.0</td>\n",
       "    </tr>\n",
       "    <tr>\n",
       "      <td>13</td>\n",
       "      <td>14</td>\n",
       "      <td>1</td>\n",
       "      <td>0.964673</td>\n",
       "      <td>40</td>\n",
       "      <td>3</td>\n",
       "      <td>0.382965</td>\n",
       "      <td>0</td>\n",
       "      <td>13700.0</td>\n",
       "      <td>9</td>\n",
       "      <td>3</td>\n",
       "      <td>1</td>\n",
       "      <td>1</td>\n",
       "      <td>2.0</td>\n",
       "    </tr>\n",
       "    <tr>\n",
       "      <td>14</td>\n",
       "      <td>15</td>\n",
       "      <td>0</td>\n",
       "      <td>0.019657</td>\n",
       "      <td>76</td>\n",
       "      <td>0</td>\n",
       "      <td>477.000000</td>\n",
       "      <td>0</td>\n",
       "      <td>0.0</td>\n",
       "      <td>6</td>\n",
       "      <td>0</td>\n",
       "      <td>1</td>\n",
       "      <td>0</td>\n",
       "      <td>0.0</td>\n",
       "    </tr>\n",
       "    <tr>\n",
       "      <td>15</td>\n",
       "      <td>16</td>\n",
       "      <td>0</td>\n",
       "      <td>0.548458</td>\n",
       "      <td>64</td>\n",
       "      <td>0</td>\n",
       "      <td>0.209892</td>\n",
       "      <td>0</td>\n",
       "      <td>11362.0</td>\n",
       "      <td>7</td>\n",
       "      <td>0</td>\n",
       "      <td>1</td>\n",
       "      <td>0</td>\n",
       "      <td>2.0</td>\n",
       "    </tr>\n",
       "    <tr>\n",
       "      <td>16</td>\n",
       "      <td>17</td>\n",
       "      <td>0</td>\n",
       "      <td>0.061086</td>\n",
       "      <td>78</td>\n",
       "      <td>0</td>\n",
       "      <td>2058.000000</td>\n",
       "      <td>0</td>\n",
       "      <td>NaN</td>\n",
       "      <td>10</td>\n",
       "      <td>0</td>\n",
       "      <td>2</td>\n",
       "      <td>0</td>\n",
       "      <td>0.0</td>\n",
       "    </tr>\n",
       "    <tr>\n",
       "      <td>17</td>\n",
       "      <td>18</td>\n",
       "      <td>0</td>\n",
       "      <td>0.166284</td>\n",
       "      <td>53</td>\n",
       "      <td>0</td>\n",
       "      <td>0.188274</td>\n",
       "      <td>0</td>\n",
       "      <td>8800.0</td>\n",
       "      <td>7</td>\n",
       "      <td>0</td>\n",
       "      <td>0</td>\n",
       "      <td>0</td>\n",
       "      <td>0.0</td>\n",
       "    </tr>\n",
       "    <tr>\n",
       "      <td>18</td>\n",
       "      <td>19</td>\n",
       "      <td>0</td>\n",
       "      <td>0.221813</td>\n",
       "      <td>43</td>\n",
       "      <td>0</td>\n",
       "      <td>0.527888</td>\n",
       "      <td>0</td>\n",
       "      <td>3280.0</td>\n",
       "      <td>7</td>\n",
       "      <td>0</td>\n",
       "      <td>1</td>\n",
       "      <td>0</td>\n",
       "      <td>2.0</td>\n",
       "    </tr>\n",
       "    <tr>\n",
       "      <td>19</td>\n",
       "      <td>20</td>\n",
       "      <td>0</td>\n",
       "      <td>0.602794</td>\n",
       "      <td>25</td>\n",
       "      <td>0</td>\n",
       "      <td>0.065868</td>\n",
       "      <td>0</td>\n",
       "      <td>333.0</td>\n",
       "      <td>2</td>\n",
       "      <td>0</td>\n",
       "      <td>0</td>\n",
       "      <td>0</td>\n",
       "      <td>0.0</td>\n",
       "    </tr>\n",
       "  </tbody>\n",
       "</table>\n",
       "</div>"
      ],
      "text/plain": [
       "    Id  SeriousDlqin2yrs  RevolvingUtilizationOfUnsecuredLines  age  \\\n",
       "0    1                 1                              0.766127   45   \n",
       "1    2                 0                              0.957151   40   \n",
       "2    3                 0                              0.658180   38   \n",
       "3    4                 0                              0.233810   30   \n",
       "4    5                 0                              0.907239   49   \n",
       "5    6                 0                              0.213179   74   \n",
       "6    7                 0                              0.305682   57   \n",
       "7    8                 0                              0.754464   39   \n",
       "8    9                 0                              0.116951   27   \n",
       "9   10                 0                              0.189169   57   \n",
       "10  11                 0                              0.644226   30   \n",
       "11  12                 0                              0.018798   51   \n",
       "12  13                 0                              0.010352   46   \n",
       "13  14                 1                              0.964673   40   \n",
       "14  15                 0                              0.019657   76   \n",
       "15  16                 0                              0.548458   64   \n",
       "16  17                 0                              0.061086   78   \n",
       "17  18                 0                              0.166284   53   \n",
       "18  19                 0                              0.221813   43   \n",
       "19  20                 0                              0.602794   25   \n",
       "\n",
       "    NumberOfTime30-59DaysPastDueNotWorse    DebtRatio  MonthlyDebt  \\\n",
       "0                                      2     0.802982            0   \n",
       "1                                      0     0.121876            0   \n",
       "2                                      1     0.085113            0   \n",
       "3                                      0     0.036050            0   \n",
       "4                                      1     0.024926            0   \n",
       "5                                      0     0.375607            0   \n",
       "6                                      0  5710.000000            0   \n",
       "7                                      0     0.209940            0   \n",
       "8                                      0    46.000000            0   \n",
       "9                                      0     0.606291            0   \n",
       "10                                     0     0.309476            0   \n",
       "11                                     0     0.531529            0   \n",
       "12                                     0     0.298354            0   \n",
       "13                                     3     0.382965            0   \n",
       "14                                     0   477.000000            0   \n",
       "15                                     0     0.209892            0   \n",
       "16                                     0  2058.000000            0   \n",
       "17                                     0     0.188274            0   \n",
       "18                                     0     0.527888            0   \n",
       "19                                     0     0.065868            0   \n",
       "\n",
       "    MonthlyIncome  NumberOfOpenCreditLinesAndLoans  NumberOfTimes90DaysLate  \\\n",
       "0          9120.0                               13                        0   \n",
       "1          2600.0                                4                        0   \n",
       "2          3042.0                                2                        1   \n",
       "3          3300.0                                5                        0   \n",
       "4         63588.0                                7                        0   \n",
       "5          3500.0                                3                        0   \n",
       "6             NaN                                8                        0   \n",
       "7          3500.0                                8                        0   \n",
       "8             NaN                                2                        0   \n",
       "9         23684.0                                9                        0   \n",
       "10         2500.0                                5                        0   \n",
       "11         6501.0                                7                        0   \n",
       "12        12454.0                               13                        0   \n",
       "13        13700.0                                9                        3   \n",
       "14            0.0                                6                        0   \n",
       "15        11362.0                                7                        0   \n",
       "16            NaN                               10                        0   \n",
       "17         8800.0                                7                        0   \n",
       "18         3280.0                                7                        0   \n",
       "19          333.0                                2                        0   \n",
       "\n",
       "    NumberRealEstateLoansOrLines  NumberOfTime60-89DaysPastDueNotWorse  \\\n",
       "0                              6                                     0   \n",
       "1                              0                                     0   \n",
       "2                              0                                     0   \n",
       "3                              0                                     0   \n",
       "4                              1                                     0   \n",
       "5                              1                                     0   \n",
       "6                              3                                     0   \n",
       "7                              0                                     0   \n",
       "8                              0                                     0   \n",
       "9                              4                                     0   \n",
       "10                             0                                     0   \n",
       "11                             2                                     0   \n",
       "12                             2                                     0   \n",
       "13                             1                                     1   \n",
       "14                             1                                     0   \n",
       "15                             1                                     0   \n",
       "16                             2                                     0   \n",
       "17                             0                                     0   \n",
       "18                             1                                     0   \n",
       "19                             0                                     0   \n",
       "\n",
       "    NumberOfDependents  \n",
       "0                  2.0  \n",
       "1                  1.0  \n",
       "2                  0.0  \n",
       "3                  0.0  \n",
       "4                  0.0  \n",
       "5                  1.0  \n",
       "6                  0.0  \n",
       "7                  0.0  \n",
       "8                  NaN  \n",
       "9                  2.0  \n",
       "10                 0.0  \n",
       "11                 2.0  \n",
       "12                 2.0  \n",
       "13                 2.0  \n",
       "14                 0.0  \n",
       "15                 2.0  \n",
       "16                 0.0  \n",
       "17                 0.0  \n",
       "18                 2.0  \n",
       "19                 0.0  "
      ]
     },
     "execution_count": 68,
     "metadata": {},
     "output_type": "execute_result"
    }
   ],
   "source": [
    "# Méthode insert(loc, column, value, allow_duplicates=False)\n",
    "\n",
    "for df in [fulltrain, test]:\n",
    "    df.insert(6,\"MonthlyDebt\",0)\n",
    "    \n",
    "# On affiche les 20 premières lignes afin de vérifier la création de notre nouvelle colonne dans notre tableau\n",
    "    \n",
    "fulltrain.head(20)"
   ]
  },
  {
   "cell_type": "markdown",
   "metadata": {},
   "source": [
    "On définit la fonction MonthlyDebtCalc que l'on pourra appliquer sur notre colonne correspondante. On regarde DebtRatio, si on a un résultat dans cette colonne qui est supérieur à 100, on remplace la valeur correspondante dans la colonne MonthlyDebt par cette valeur. Sinon, on multiplie DebtRatio par MonthlyIncome puis on remplace la valeur obtenue toujours dans notre colonne MonthlyDebt."
   ]
  },
  {
   "cell_type": "code",
   "execution_count": 69,
   "metadata": {},
   "outputs": [],
   "source": [
    "# Méthode apply(func, axis=0, broadcast=None, raw=False, reduce=None, result_type=None, args=(), **kwds)\n",
    "\n",
    "def MonthlyDebtCalc(row):\n",
    "    if row['DebtRatio'] > 100:\n",
    "        row['MonthlyDebt']=row['DebtRatio']\n",
    "    else:\n",
    "        row['MonthlyDebt']=row['DebtRatio']*row['MonthlyIncome']\n",
    "    return row"
   ]
  },
  {
   "cell_type": "code",
   "execution_count": 70,
   "metadata": {},
   "outputs": [],
   "source": [
    "# On utilise notre fonction MonthlyDebtCalc avec apply\n",
    "\n",
    "for df in [fulltrain, test]:\n",
    "    df['MonthlyDebt']=df[['MonthlyDebt','DebtRatio','MonthlyIncome']].apply(MonthlyDebtCalc, axis=1)"
   ]
  },
  {
   "cell_type": "code",
   "execution_count": 71,
   "metadata": {},
   "outputs": [
    {
     "data": {
      "text/plain": [
       "0      7323.197016\n",
       "1       316.878123\n",
       "2       258.914887\n",
       "3       118.963951\n",
       "4      1584.975094\n",
       "5      1314.624392\n",
       "6      5710.000000\n",
       "7       734.790059\n",
       "8              NaN\n",
       "9     14359.393699\n",
       "10      773.690525\n",
       "11     3455.468469\n",
       "12     3715.701650\n",
       "13     5246.617034\n",
       "14      477.000000\n",
       "15     2384.790109\n",
       "16     2058.000000\n",
       "17     1656.811728\n",
       "18     1731.472112\n",
       "19       21.934132\n",
       "Name: MonthlyDebt, dtype: float64"
      ]
     },
     "execution_count": 71,
     "metadata": {},
     "output_type": "execute_result"
    }
   ],
   "source": [
    "# On regarde les 20 premières lignes de la colonne demandée\n",
    "\n",
    "fulltrain['MonthlyDebt'].head(20)"
   ]
  },
  {
   "cell_type": "markdown",
   "metadata": {},
   "source": [
    "Création d'une colonne 'IsOld' par raport à 'age'. Celle-ci définira dans notre colonne si la personne correspondante est âgée de plus de 70 ans ou non."
   ]
  },
  {
   "cell_type": "code",
   "execution_count": 72,
   "metadata": {},
   "outputs": [],
   "source": [
    "# Nouvelle colonne IsOld par rapport à 'age'\n",
    "\n",
    "for df in [fulltrain, test]:\n",
    "    df.insert(4,\"IsOld\",0)"
   ]
  },
  {
   "cell_type": "markdown",
   "metadata": {},
   "source": [
    "On définit notre fonction AgeCalc. Si la valeur dans 'age' est strictement supérieure à 70, la valeur dans 'IsOld' sera 1, dans si elle est inférieure à 70, cette valeur sera 0 dans la colonne 'IsOld'."
   ]
  },
  {
   "cell_type": "code",
   "execution_count": 73,
   "metadata": {},
   "outputs": [],
   "source": [
    "# Fonction AgeCalc qui définit si la personne est âgé de plus de 70ans ou non\n",
    "\n",
    "def AgeCalc(row):\n",
    "    if row['age'] > 70:\n",
    "        row['IsOld']=1\n",
    "    else:\n",
    "        row['IsOld']=0\n",
    "    return row"
   ]
  },
  {
   "cell_type": "code",
   "execution_count": 74,
   "metadata": {},
   "outputs": [],
   "source": [
    "# On utilise notre fonction avec la méthode apply sur IsOld\n",
    "\n",
    "for df in [fulltrain, test]:\n",
    "    df['IsOld']=df[['IsOld','age']].apply(AgeCalc,axis=1)"
   ]
  },
  {
   "cell_type": "markdown",
   "metadata": {},
   "source": [
    "Dans nos colonnes 'NumberOfTime...' on retrouve plusieurs valeurs aberrantes (96,98), on va donc les remplacer par NaN."
   ]
  },
  {
   "cell_type": "code",
   "execution_count": 75,
   "metadata": {},
   "outputs": [],
   "source": [
    "# Changer les valeurs aberrantes '96' et '98' des colonnes NumberOfTime par NaN\n",
    "\n",
    "for df in [fulltrain, test]:\n",
    "    df['NumberOfTime30-59DaysPastDueNotWorse']=df['NumberOfTime30-59DaysPastDueNotWorse'].replace(96,np.nan)\n",
    "    df['NumberOfTime30-59DaysPastDueNotWorse']=df['NumberOfTime30-59DaysPastDueNotWorse'].replace(98,np.nan)\n",
    "    df['NumberOfTime60-89DaysPastDueNotWorse']=df['NumberOfTime60-89DaysPastDueNotWorse'].replace(96,np.nan)\n",
    "    df['NumberOfTime60-89DaysPastDueNotWorse']=df['NumberOfTime60-89DaysPastDueNotWorse'].replace(98,np.nan)\n",
    "    df['NumberOfTimes90DaysLate']=df['NumberOfTimes90DaysLate'].replace(96,np.nan)\n",
    "    df['NumberOfTimes90DaysLate']=df['NumberOfTimes90DaysLate'].replace(98,np.nan)"
   ]
  },
  {
   "cell_type": "markdown",
   "metadata": {},
   "source": [
    "On crée la colonne MonthlyPerPerson."
   ]
  },
  {
   "cell_type": "code",
   "execution_count": 76,
   "metadata": {},
   "outputs": [],
   "source": [
    "# Création colonne 'MonthlyPerPerson'\n",
    "\n",
    "for df in [fulltrain, test]:\n",
    "    df.insert(10,\"MonthlyPerPerson\",0)\n",
    "    df['MonthlyPerPerson'] = df['MonthlyIncome'] / ( df['NumberOfDependents'] + 1 )"
   ]
  },
  {
   "cell_type": "markdown",
   "metadata": {},
   "source": [
    "On créé la colonne 'MonthlyBalance' qui est la différence entre 'MonthlyIncome' et 'MonthlyPerPerson'."
   ]
  },
  {
   "cell_type": "code",
   "execution_count": 77,
   "metadata": {},
   "outputs": [],
   "source": [
    "# Création de la colonne 'MonthlyBalance'\n",
    "\n",
    "for df in [fulltrain, test]:\n",
    "    df.insert(11,\"MonthlyBalance\",0)\n",
    "    df['MonthlyBalance'] = df['MonthlyIncome'] - df['MonthlyPerPerson']"
   ]
  },
  {
   "cell_type": "markdown",
   "metadata": {},
   "source": [
    "On souhaite changer les valeurs NaN de notre colonne 'NumberOfDependents' par des 0, on utilise la fonction '.fillna(0)'."
   ]
  },
  {
   "cell_type": "code",
   "execution_count": 78,
   "metadata": {},
   "outputs": [],
   "source": [
    "# Remplacer les valeurs NA de la colonne NumberOfDependents par 0\n",
    "\n",
    "for df in [fulltrain, test]:\n",
    "    df['NumberOfDependents'].fillna(0)"
   ]
  },
  {
   "cell_type": "markdown",
   "metadata": {},
   "source": [
    "On créé une nouvelle colonne nommée 'NumberTimePond' qui pondère chaque valeurs des colonnes 'NumberOfTime...' par 3, 2, 1 respectivement 90Days, 60-89Days, 30-59Days."
   ]
  },
  {
   "cell_type": "code",
   "execution_count": 79,
   "metadata": {},
   "outputs": [],
   "source": [
    "# Nouvelle colonne NumberTimePond \n",
    "\n",
    "for df in [fulltrain, test]:\n",
    "    df.insert(5,\"NumberTimePond\",0)\n",
    "    df['NumberTimePond'] = 3*df['NumberOfTimes90DaysLate'] + 2*df['NumberOfTime60-89DaysPastDueNotWorse']+ df['NumberOfTime30-59DaysPastDueNotWorse']"
   ]
  },
  {
   "cell_type": "markdown",
   "metadata": {},
   "source": [
    "On vérifie que l'on obtient pas de valeurs maximales aberrantes en procédant comme suit, avec la colonne souhaitée.\n",
    "\n",
    "```python\n",
    "print(df['NumberOfTimes90DaysLate'].describe())```"
   ]
  },
  {
   "cell_type": "code",
   "execution_count": 85,
   "metadata": {},
   "outputs": [],
   "source": [
    "# On enregistre nos modifications de fulltrain et test\n",
    "\n",
    "fulltrain.to_csv('GMSCtrainmodif_v2.csv')\n",
    "test.to_csv('GMSCtestmodif_v2.csv')"
   ]
  },
  {
   "cell_type": "markdown",
   "metadata": {},
   "source": [
    "##### On peut ainsi charger notre fulltrainmodif dans notre source BigML puis effectuer des prédictions.\n",
    "##### Après l'avoir mis dans notre source BigML, on créé notre dataset sur notre fulltrainmodif sur lequel on pourra créer un modèle Ensemble puis le spliter en 80-20 par exemple. "
   ]
  },
  {
   "cell_type": "code",
   "execution_count": 91,
   "metadata": {},
   "outputs": [
    {
     "name": "stderr",
     "output_type": "stream",
     "text": [
      "HTTP request error: ('Connection aborted.', OSError(\"(32, 'EPIPE')\"))\n"
     ]
    },
    {
     "name": "stdout",
     "output_type": "stream",
     "text": [
      "2019-10-25 09:07:46,090: HTTP request error: ('Connection aborted.', OSError(\"(32, 'EPIPE')\"))\n"
     ]
    },
    {
     "name": "stderr",
     "output_type": "stream",
     "text": [
      "HTTP request error: ('Connection aborted.', OSError(\"(32, 'EPIPE')\"))\n"
     ]
    },
    {
     "name": "stdout",
     "output_type": "stream",
     "text": [
      "2019-10-25 09:10:45,928: HTTP request error: ('Connection aborted.', OSError(\"(32, 'EPIPE')\"))\n"
     ]
    }
   ],
   "source": [
    "# On met l'ID BigML, la key et l'id du projet\n",
    "\n",
    "api = BigML(project = 'project/5d94a41242129f2e16000244')\n",
    "\n",
    "# On importe nos deux fichiers csv fulltrainmodif et testmodif dans la source BigML\n",
    "\n",
    "source1 = api.create_source('GMSCtrainmodif_v2.csv')\n",
    "source2 = api.create_source('GMSCtestmodif_v2.csv')"
   ]
  },
  {
   "cell_type": "code",
   "execution_count": null,
   "metadata": {},
   "outputs": [],
   "source": [
    "# On créé notre dataset trainfull et test\n",
    "\n",
    "train_dataset = api.create_dataset(source1)\n",
    "test_dataset = api.create_dataset(source2)"
   ]
  },
  {
   "cell_type": "markdown",
   "metadata": {},
   "source": [
    "Grâce à ces lignes de code, on va pouvoir effectuer un split de notre dataset, ici en 80-20.\n",
    "```python\n",
    "train_dataset = api.create_dataset(\n",
    "    origin_dataset, {\"name\": \" Xset | Training\",\n",
    "                     \"sample_rate\": 0.8, \"seed\": \"my seed\"})\n",
    "test_dataset = api.create_dataset(\n",
    "    origin_dataset, {\"name\": \" Xset | Test\",\n",
    "                     \"sample_rate\": 0.8, \"seed\": \"my seed\",\n",
    "                     \"out_of_bag\": True})\n",
    "```\n",
    "\"out_of_bag\" va nous permettre de prendre les 20% restant pour notre split sur le test, on laisse donc '0.8' pour \"sample_rate\" aux deux."
   ]
  },
  {
   "cell_type": "code",
   "execution_count": 62,
   "metadata": {},
   "outputs": [],
   "source": [
    "# On split notre dataset fulltrainmodif en 80-20\n",
    "\n",
    "train_split = api.create_dataset(\n",
    "    train_dataset, {\"name\": \"GMSC - train_split\", \"sample_rate\": 0.8, \"seed\": \"my seed\"})\n",
    "\n",
    "dev_set = api.create_dataset(\n",
    "    train_dataset, {\"name\": \"GMSC - dev_set\", \"sample_rate\": 0.8, \"seed\": \"my seed\", \"out_of_bag\": True})"
   ]
  },
  {
   "cell_type": "markdown",
   "metadata": {},
   "source": [
    "Lors de la création du modèle Ensemble, on n'oublie pas de préciser l' \"objective_field\" qui sera la donnée sur laquelle on va faire une prédiction.  \n",
    "Par la suite on va utiliser le batch prediction sur notre validation set pour évaluer notre modèle."
   ]
  },
  {
   "cell_type": "code",
   "execution_count": 63,
   "metadata": {},
   "outputs": [],
   "source": [
    "# Création d'un modèle Ensemble sur la partie Training du dataset \n",
    "\n",
    "ensemble = api.create_ensemble(train_split , {\"objective_field\" : \"SeriousDlqin2yrs\"})"
   ]
  },
  {
   "cell_type": "code",
   "execution_count": 64,
   "metadata": {},
   "outputs": [
    {
     "data": {
      "text/plain": [
       "True"
      ]
     },
     "execution_count": 64,
     "metadata": {},
     "output_type": "execute_result"
    }
   ],
   "source": [
    "# Batch prediction sur notre dev_set pour évaluer notre modèle\n",
    "\n",
    "batch_prediction_ensemble = api.create_batch_prediction(ensemble, dev_set, {\"all_fields\": True, \"Probabilities\": True})\n",
    "api.ok(batch_prediction_ensemble)\n",
    "\n",
    "'''\n",
    "On peut gérer les colonnes obtenues à la suite de notre batch prediction à l'aide de \"all_fields\", que l'on peut\n",
    "remplacer par \"output_fields\" suivi des colonnes que l'on souhaite garder (['Id'], ['SeriousDlqin2yrs'], ...);\n",
    "et \"probabilities\" qui nous permet d'obtenir les 1_proba et 0_proba.\n",
    "'''"
   ]
  },
  {
   "cell_type": "markdown",
   "metadata": {},
   "source": [
    "Si on le souhaite, on peut télécharger notre batch prediction :"
   ]
  },
  {
   "cell_type": "code",
   "execution_count": 65,
   "metadata": {},
   "outputs": [
    {
     "data": {
      "text/plain": [
       "'BatchPrediction/GMSCfulltrainm_Prediction_Ensemble_v2.csv'"
      ]
     },
     "execution_count": 65,
     "metadata": {},
     "output_type": "execute_result"
    }
   ],
   "source": [
    "# Téléchargement du batch prediction\n",
    "\n",
    "api.download_batch_prediction(batch_prediction_ensemble, \n",
    "                              filename='BatchPrediction/GMSC_Prediction_Ensemble.csv')"
   ]
  },
  {
   "cell_type": "markdown",
   "metadata": {},
   "source": [
    "On peut créer une prédiction selon un modèle et des critères :\n",
    "\n",
    "```Python\n",
    "prediction = api.create_prediction(ensemble, {\"DebtRatio\": 20 , \"age\": 20})\n",
    "api.pprint(prediction)\n",
    "```\n",
    "\n",
    "Par la suite il nous reste juste à appliquer un batch prediction sur notre test_dataset qui contient les mêmes features que sur le train, supprimer la colonne 'SeriousDlqin2yrs', changer le nom de la colonne comme attendu sur Kaggle puis le soumettre."
   ]
  },
  {
   "cell_type": "code",
   "execution_count": 24,
   "metadata": {},
   "outputs": [
    {
     "data": {
      "text/plain": [
       "True"
      ]
     },
     "execution_count": 24,
     "metadata": {},
     "output_type": "execute_result"
    }
   ],
   "source": [
    "batch_prediction_ensemble_kaggle = api.create_batch_prediction(ensemble, test_dataset, \n",
    "                                                               {\"output_fields\": ['Id'], \"probability\": True})\n",
    "api.ok(batch_prediction_ensemble_kaggle)"
   ]
  },
  {
   "cell_type": "markdown",
   "metadata": {},
   "source": [
    "On enregistre :"
   ]
  },
  {
   "cell_type": "code",
   "execution_count": 25,
   "metadata": {},
   "outputs": [
    {
     "data": {
      "text/plain": [
       "'BatchPrediction/GMSCfulltrainm_Prediction2_Ensemble.csv'"
      ]
     },
     "execution_count": 25,
     "metadata": {},
     "output_type": "execute_result"
    }
   ],
   "source": [
    "api.download_batch_prediction(batch_prediction_ensemble_kaggle, \n",
    "                              filename='BatchPrediction/GMSC_Prediction_Ensemble_kaggle.csv')"
   ]
  },
  {
   "cell_type": "markdown",
   "metadata": {},
   "source": [
    "On supprime l'index, on met une majuscule à probability (pour kaggle) et on supprime la colonne SeriousDlqin2yrs :"
   ]
  },
  {
   "cell_type": "code",
   "execution_count": 12,
   "metadata": {},
   "outputs": [],
   "source": [
    "from pandas import read_csv\n",
    "\n",
    "final_submission=read_csv('./BatchPrediction/GMSCfulltrainm_Prediction2_Ensemble.csv', index_col=0)\n",
    "final_submission.columns.values[1]='Probability'"
   ]
  },
  {
   "cell_type": "code",
   "execution_count": 14,
   "metadata": {},
   "outputs": [],
   "source": [
    "del final_submission['SeriousDlqin2yrs']"
   ]
  },
  {
   "cell_type": "markdown",
   "metadata": {},
   "source": [
    "On va enregistrer nos changements et soumettre à Kaggle :"
   ]
  },
  {
   "cell_type": "code",
   "execution_count": 16,
   "metadata": {},
   "outputs": [
    {
     "name": "stderr",
     "output_type": "stream",
     "text": [
      "100%|██████████| 1.73M/1.73M [00:36<00:00, 50.5kB/s]\n"
     ]
    },
    {
     "data": {
      "text/plain": [
       "Successfully submitted to Give Me Some Credit"
      ]
     },
     "execution_count": 16,
     "metadata": {},
     "output_type": "execute_result"
    }
   ],
   "source": [
    "import kaggle\n",
    "\n",
    "final_submission.to_csv('GMSC_KaggleSubmission_Ensemble.csv')\n",
    "submission_file = 'GMSC_KaggleSubmission_Ensemble.csv'\n",
    "kaggle.api.competition_submit(submission_file, \"BigML ensemble\", \"GiveMeSomeCredit\")"
   ]
  },
  {
   "cell_type": "markdown",
   "metadata": {},
   "source": [
    "On peut récupérer notre score ainsi que les précédents, envoyés sur Kaggle, en procédant comme suit :\n",
    "\n",
    "```python\n",
    "kaggle.api.competitions_submissions_list(\"GiveMeSomeCredit\")```"
   ]
  },
  {
   "cell_type": "code",
   "execution_count": null,
   "metadata": {},
   "outputs": [],
   "source": []
  }
 ],
 "metadata": {
  "kernelspec": {
   "display_name": "Python 3",
   "language": "python",
   "name": "python3"
  },
  "language_info": {
   "codemirror_mode": {
    "name": "ipython",
    "version": 3
   },
   "file_extension": ".py",
   "mimetype": "text/x-python",
   "name": "python",
   "nbconvert_exporter": "python",
   "pygments_lexer": "ipython3",
   "version": "3.7.4"
  }
 },
 "nbformat": 4,
 "nbformat_minor": 2
}
