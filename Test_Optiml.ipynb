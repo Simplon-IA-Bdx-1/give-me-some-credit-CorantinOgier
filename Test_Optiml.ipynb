{
 "cells": [
  {
   "cell_type": "markdown",
   "metadata": {},
   "source": [
    "Dans cette partie, nous voulons procéder à un OptiML "
   ]
  },
  {
   "cell_type": "code",
   "execution_count": 4,
   "metadata": {},
   "outputs": [
    {
     "ename": "ValueError",
     "evalue": "{'code': -1, 'elapsed': 2473.0, 'error': -4651, 'message': 'This model type cannnot be optimized by this metric: accuracy', 'progress': 0}",
     "output_type": "error",
     "traceback": [
      "\u001b[0;31m---------------------------------------------------------------------------\u001b[0m",
      "\u001b[0;31mValueError\u001b[0m                                Traceback (most recent call last)",
      "\u001b[0;32m<ipython-input-4-b071083fb729>\u001b[0m in \u001b[0;36m<module>\u001b[0;34m\u001b[0m\n\u001b[1;32m     34\u001b[0m optiml = api.create_optiml(origin_dataset1, { \\\n\u001b[1;32m     35\u001b[0m     \"name\": \"my optiml - GMSC\", \"metric\": \"accuracy\"})\n\u001b[0;32m---> 36\u001b[0;31m \u001b[0mapi\u001b[0m\u001b[0;34m.\u001b[0m\u001b[0mok\u001b[0m\u001b[0;34m(\u001b[0m\u001b[0moptiml\u001b[0m\u001b[0;34m)\u001b[0m\u001b[0;34m\u001b[0m\u001b[0;34m\u001b[0m\u001b[0m\n\u001b[0m",
      "\u001b[0;32m/opt/conda/lib/python3.7/site-packages/bigml/resourcehandler.py\u001b[0m in \u001b[0;36mok\u001b[0;34m(self, resource, query_string, wait_time, retries, raise_on_error)\u001b[0m\n\u001b[1;32m    507\u001b[0m                                            \u001b[0mretries\u001b[0m\u001b[0;34m=\u001b[0m\u001b[0mretries\u001b[0m\u001b[0;34m,\u001b[0m\u001b[0;34m\u001b[0m\u001b[0;34m\u001b[0m\u001b[0m\n\u001b[1;32m    508\u001b[0m                                            \u001b[0mraise_on_error\u001b[0m\u001b[0;34m=\u001b[0m\u001b[0mraise_on_error\u001b[0m\u001b[0;34m,\u001b[0m\u001b[0;34m\u001b[0m\u001b[0;34m\u001b[0m\u001b[0m\n\u001b[0;32m--> 509\u001b[0;31m                                            api=self))\n\u001b[0m\u001b[1;32m    510\u001b[0m             \u001b[0;32mreturn\u001b[0m \u001b[0;32mTrue\u001b[0m\u001b[0;34m\u001b[0m\u001b[0;34m\u001b[0m\u001b[0m\n\u001b[1;32m    511\u001b[0m         \u001b[0;32melse\u001b[0m\u001b[0;34m:\u001b[0m\u001b[0;34m\u001b[0m\u001b[0;34m\u001b[0m\u001b[0m\n",
      "\u001b[0;32m/opt/conda/lib/python3.7/site-packages/bigml/resourcehandler.py\u001b[0m in \u001b[0;36mcheck_resource\u001b[0;34m(resource, get_method, query_string, wait_time, retries, raise_on_error, api)\u001b[0m\n\u001b[1;32m    436\u001b[0m             \u001b[0;32mreturn\u001b[0m \u001b[0mresource\u001b[0m\u001b[0;34m\u001b[0m\u001b[0;34m\u001b[0m\u001b[0m\n\u001b[1;32m    437\u001b[0m         \u001b[0;32melif\u001b[0m \u001b[0mcode\u001b[0m \u001b[0;34m==\u001b[0m \u001b[0mc\u001b[0m\u001b[0;34m.\u001b[0m\u001b[0mFAULTY\u001b[0m\u001b[0;34m:\u001b[0m\u001b[0;34m\u001b[0m\u001b[0;34m\u001b[0m\u001b[0m\n\u001b[0;32m--> 438\u001b[0;31m             \u001b[0;32mraise\u001b[0m \u001b[0mValueError\u001b[0m\u001b[0;34m(\u001b[0m\u001b[0mstatus\u001b[0m\u001b[0;34m)\u001b[0m\u001b[0;34m\u001b[0m\u001b[0;34m\u001b[0m\u001b[0m\n\u001b[0m\u001b[1;32m    439\u001b[0m         \u001b[0mtime\u001b[0m\u001b[0;34m.\u001b[0m\u001b[0msleep\u001b[0m\u001b[0;34m(\u001b[0m\u001b[0mget_exponential_wait\u001b[0m\u001b[0;34m(\u001b[0m\u001b[0mwait_time\u001b[0m\u001b[0;34m,\u001b[0m \u001b[0mcounter\u001b[0m\u001b[0;34m)\u001b[0m\u001b[0;34m)\u001b[0m\u001b[0;34m\u001b[0m\u001b[0;34m\u001b[0m\u001b[0m\n\u001b[1;32m    440\u001b[0m         \u001b[0;31m# retries for the finished status use a query string that gets the\u001b[0m\u001b[0;34m\u001b[0m\u001b[0;34m\u001b[0m\u001b[0;34m\u001b[0m\u001b[0m\n",
      "\u001b[0;31mValueError\u001b[0m: {'code': -1, 'elapsed': 2473.0, 'error': -4651, 'message': 'This model type cannnot be optimized by this metric: accuracy', 'progress': 0}"
     ]
    }
   ],
   "source": [
    "from bigml.api import BigML\n",
    "import numpy as np\n",
    "from pandas import DataFrame, read_csv\n",
    "\n",
    "#On met l'ID BigML, la key et l'id du projet\n",
    "\n",
    "api = BigML('CorantinO', '77225993ed8676123a26c4cdaa13cfadadf71237', project='project/5d94a41242129f2e16000244')\n",
    "\n",
    "# On importe nos deux fichiers csv fulltrainmodif et testmodif dans la source BigML\n",
    "\n",
    "source1 = api.create_source('GMSC_modif_train.csv')\n",
    "api.ok(source1)\n",
    "source2 = api.create_source('GMSC_modif_test.csv')\n",
    "api.ok(source2)\n",
    "\n",
    "# On créé notre dataset fulltrainmodif et testmodif\n",
    "\n",
    "origin_dataset1 = api.create_dataset(source1)\n",
    "api.ok(origin_dataset1)\n",
    "origin_dataset2 = api.create_dataset(source2)\n",
    "api.ok(origin_dataset2)\n",
    "\n",
    "# On split notre dataset fulltrainmodif en 80-20\n",
    "\n",
    "fulltrainm_dataset = api.create_dataset(\n",
    "    origin_dataset1, {\"name\": \"GMSCfulltrainm | Training\", \"sample_rate\": 0.8, \"seed\": \"my seed\"})\n",
    "api.ok(fulltrainm_dataset)\n",
    "test_dataset = api.create_dataset(\n",
    "    origin_dataset1, {\"name\": \"GMSCfulltrainm | Test\", \"sample_rate\": 0.8, \"seed\": \"my seed\", \"out_of_bag\": True})\n",
    "api.ok(test_dataset)\n",
    "\n",
    "# Et on fait un OptiML\n",
    "\n",
    "optiml = api.create_optiml(origin_dataset1, { \\\n",
    "    \"name\": \"my optiml - GMSC\", \"metric\": \"accuracy\"})\n",
    "api.ok(optiml)"
   ]
  },
  {
   "cell_type": "code",
   "execution_count": null,
   "metadata": {},
   "outputs": [],
   "source": []
  }
 ],
 "metadata": {
  "kernelspec": {
   "display_name": "Python 3",
   "language": "python",
   "name": "python3"
  },
  "language_info": {
   "codemirror_mode": {
    "name": "ipython",
    "version": 3
   },
   "file_extension": ".py",
   "mimetype": "text/x-python",
   "name": "python",
   "nbconvert_exporter": "python",
   "pygments_lexer": "ipython3",
   "version": "3.7.4"
  }
 },
 "nbformat": 4,
 "nbformat_minor": 2
}
